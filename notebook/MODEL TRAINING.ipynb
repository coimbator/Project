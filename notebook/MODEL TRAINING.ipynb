{
 "cells": [
  {
   "cell_type": "code",
   "execution_count": 10,
   "metadata": {},
   "outputs": [],
   "source": [
    "import pandas as pd\n",
    "from sklearn.model_selection import train_test_split\n",
    "from sklearn.ensemble import RandomForestClassifier\n",
    "from sklearn.linear_model import LogisticRegression\n",
    "from sklearn.metrics import classification_report\n",
    "import matplotlib.pyplot as plt\n",
    "from sklearn.svm import SVC\n",
    "import mlflow\n",
    "import numpy as np"
   ]
  },
  {
   "cell_type": "code",
   "execution_count": 4,
   "metadata": {},
   "outputs": [],
   "source": [
    "df = pd.read_csv('data/HAR.csv')"
   ]
  },
  {
   "cell_type": "code",
   "execution_count": 5,
   "metadata": {},
   "outputs": [
    {
     "name": "stdout",
     "output_type": "stream",
     "text": [
      "Number of rows: 10299\n"
     ]
    }
   ],
   "source": [
    "def filter_columns(data):\n",
    "    # Exclude the label column and use all other columns as inputs\n",
    "    X = data.drop(columns=['Activity', 'subject']).values  # Drops the 'type' column\n",
    "    return X\n",
    "\n",
    "# Assuming df is your DataFrame\n",
    "X = filter_columns(df)\n",
    "Y = df['Activity'].values  # Extract the label column\n",
    "\n",
    "# Check the number of rows\n",
    "print(f\"Number of rows: {len(X)}\")\n"
   ]
  },
  {
   "cell_type": "code",
   "execution_count": 6,
   "metadata": {},
   "outputs": [
    {
     "name": "stdout",
     "output_type": "stream",
     "text": [
      "(array(['LAYING', 'SITTING', 'STANDING', 'WALKING', 'WALKING_DOWNSTAIRS',\n",
      "       'WALKING_UPSTAIRS'], dtype=object), array([1944, 1777, 1906, 1722, 1406, 1544], dtype=int64))\n"
     ]
    }
   ],
   "source": [
    "print(np.unique(Y, return_counts=True))"
   ]
  },
  {
   "cell_type": "code",
   "execution_count": 7,
   "metadata": {},
   "outputs": [
    {
     "name": "stdout",
     "output_type": "stream",
     "text": [
      "Train length 8239\n",
      "Test length 2060\n"
     ]
    }
   ],
   "source": [
    "#Split the data and keep 20% back for testing later\n",
    "X_train, X_test, Y_train, Y_test = train_test_split(X, Y, test_size=0.20)\n",
    "print(\"Train length\", len(X_train))\n",
    "print(\"Test length\", len(X_test))"
   ]
  },
  {
   "cell_type": "code",
   "execution_count": 11,
   "metadata": {},
   "outputs": [],
   "source": [
    "models = [\n",
    "    (\n",
    "        \"Random Forest\",\n",
    "        RandomForestClassifier(n_estimators=100, random_state=42),\n",
    "        (X_train, Y_train),\n",
    "        (X_test, Y_test)\n",
    "    ),\n",
    "    (\n",
    "        \"Logistic Regression\",\n",
    "        LogisticRegression(),\n",
    "        (X_train, Y_train),\n",
    "        (X_test, Y_test)\n",
    "    ),\n",
    "    (\n",
    "        \"SVM\",\n",
    "        SVC(kernel='rbf', C=1.0, gamma='scale', random_state=42),\n",
    "        (X_train, Y_train),\n",
    "        (X_test, Y_test)\n",
    "    )\n",
    "]\n"
   ]
  },
  {
   "cell_type": "code",
   "execution_count": 12,
   "metadata": {},
   "outputs": [
    {
     "name": "stdout",
     "output_type": "stream",
     "text": [
      "[{'LAYING': {'precision': 1.0, 'recall': 1.0, 'f1-score': 1.0, 'support': 395}, 'SITTING': {'precision': 0.9787234042553191, 'recall': 0.9633507853403142, 'f1-score': 0.970976253298153, 'support': 382}, 'STANDING': {'precision': 0.9624664879356568, 'recall': 0.9782016348773842, 'f1-score': 0.9702702702702701, 'support': 367}, 'WALKING': {'precision': 0.987460815047022, 'recall': 0.987460815047022, 'f1-score': 0.987460815047022, 'support': 319}, 'WALKING_DOWNSTAIRS': {'precision': 0.9821428571428571, 'recall': 0.9615384615384616, 'f1-score': 0.9717314487632509, 'support': 286}, 'WALKING_UPSTAIRS': {'precision': 0.9684542586750788, 'recall': 0.9871382636655949, 'f1-score': 0.9777070063694268, 'support': 311}, 'accuracy': 0.9800970873786408, 'macro avg': {'precision': 0.979874637175989, 'recall': 0.9796149934114627, 'f1-score': 0.979690965624687, 'support': 2060}, 'weighted avg': {'precision': 0.9801843073246236, 'recall': 0.9800970873786408, 'f1-score': 0.9800894132409054, 'support': 2060}}]\n"
     ]
    },
    {
     "name": "stderr",
     "output_type": "stream",
     "text": [
      "C:\\Users\\David Luke\\AppData\\Roaming\\Python\\Python311\\site-packages\\sklearn\\linear_model\\_logistic.py:444: ConvergenceWarning: lbfgs failed to converge (status=1):\n",
      "STOP: TOTAL NO. of ITERATIONS REACHED LIMIT.\n",
      "\n",
      "Increase the number of iterations (max_iter) or scale the data as shown in:\n",
      "    https://scikit-learn.org/stable/modules/preprocessing.html\n",
      "Please also refer to the documentation for alternative solver options:\n",
      "    https://scikit-learn.org/stable/modules/linear_model.html#logistic-regression\n",
      "  n_iter_i = _check_optimize_result(\n"
     ]
    },
    {
     "name": "stdout",
     "output_type": "stream",
     "text": [
      "[{'LAYING': {'precision': 1.0, 'recall': 1.0, 'f1-score': 1.0, 'support': 395}, 'SITTING': {'precision': 0.9787234042553191, 'recall': 0.9633507853403142, 'f1-score': 0.970976253298153, 'support': 382}, 'STANDING': {'precision': 0.9624664879356568, 'recall': 0.9782016348773842, 'f1-score': 0.9702702702702701, 'support': 367}, 'WALKING': {'precision': 0.987460815047022, 'recall': 0.987460815047022, 'f1-score': 0.987460815047022, 'support': 319}, 'WALKING_DOWNSTAIRS': {'precision': 0.9821428571428571, 'recall': 0.9615384615384616, 'f1-score': 0.9717314487632509, 'support': 286}, 'WALKING_UPSTAIRS': {'precision': 0.9684542586750788, 'recall': 0.9871382636655949, 'f1-score': 0.9777070063694268, 'support': 311}, 'accuracy': 0.9800970873786408, 'macro avg': {'precision': 0.979874637175989, 'recall': 0.9796149934114627, 'f1-score': 0.979690965624687, 'support': 2060}, 'weighted avg': {'precision': 0.9801843073246236, 'recall': 0.9800970873786408, 'f1-score': 0.9800894132409054, 'support': 2060}}, {'LAYING': {'precision': 1.0, 'recall': 1.0, 'f1-score': 1.0, 'support': 395}, 'SITTING': {'precision': 0.9655172413793104, 'recall': 0.9528795811518325, 'f1-score': 0.9591567852437418, 'support': 382}, 'STANDING': {'precision': 0.954177897574124, 'recall': 0.9645776566757494, 'f1-score': 0.959349593495935, 'support': 367}, 'WALKING': {'precision': 0.9875389408099688, 'recall': 0.9937304075235109, 'f1-score': 0.990625, 'support': 319}, 'WALKING_DOWNSTAIRS': {'precision': 0.9964664310954063, 'recall': 0.986013986013986, 'f1-score': 0.9912126537785588, 'support': 286}, 'WALKING_UPSTAIRS': {'precision': 0.9808306709265175, 'recall': 0.9871382636655949, 'f1-score': 0.9839743589743589, 'support': 311}, 'accuracy': 0.9800970873786408, 'macro avg': {'precision': 0.9807551969642212, 'recall': 0.9807233158384455, 'f1-score': 0.9807197319154324, 'support': 2060}, 'weighted avg': {'precision': 0.980127929459424, 'recall': 0.9800970873786408, 'f1-score': 0.980092918639714, 'support': 2060}}]\n",
      "[{'LAYING': {'precision': 1.0, 'recall': 1.0, 'f1-score': 1.0, 'support': 395}, 'SITTING': {'precision': 0.9787234042553191, 'recall': 0.9633507853403142, 'f1-score': 0.970976253298153, 'support': 382}, 'STANDING': {'precision': 0.9624664879356568, 'recall': 0.9782016348773842, 'f1-score': 0.9702702702702701, 'support': 367}, 'WALKING': {'precision': 0.987460815047022, 'recall': 0.987460815047022, 'f1-score': 0.987460815047022, 'support': 319}, 'WALKING_DOWNSTAIRS': {'precision': 0.9821428571428571, 'recall': 0.9615384615384616, 'f1-score': 0.9717314487632509, 'support': 286}, 'WALKING_UPSTAIRS': {'precision': 0.9684542586750788, 'recall': 0.9871382636655949, 'f1-score': 0.9777070063694268, 'support': 311}, 'accuracy': 0.9800970873786408, 'macro avg': {'precision': 0.979874637175989, 'recall': 0.9796149934114627, 'f1-score': 0.979690965624687, 'support': 2060}, 'weighted avg': {'precision': 0.9801843073246236, 'recall': 0.9800970873786408, 'f1-score': 0.9800894132409054, 'support': 2060}}, {'LAYING': {'precision': 1.0, 'recall': 1.0, 'f1-score': 1.0, 'support': 395}, 'SITTING': {'precision': 0.9655172413793104, 'recall': 0.9528795811518325, 'f1-score': 0.9591567852437418, 'support': 382}, 'STANDING': {'precision': 0.954177897574124, 'recall': 0.9645776566757494, 'f1-score': 0.959349593495935, 'support': 367}, 'WALKING': {'precision': 0.9875389408099688, 'recall': 0.9937304075235109, 'f1-score': 0.990625, 'support': 319}, 'WALKING_DOWNSTAIRS': {'precision': 0.9964664310954063, 'recall': 0.986013986013986, 'f1-score': 0.9912126537785588, 'support': 286}, 'WALKING_UPSTAIRS': {'precision': 0.9808306709265175, 'recall': 0.9871382636655949, 'f1-score': 0.9839743589743589, 'support': 311}, 'accuracy': 0.9800970873786408, 'macro avg': {'precision': 0.9807551969642212, 'recall': 0.9807233158384455, 'f1-score': 0.9807197319154324, 'support': 2060}, 'weighted avg': {'precision': 0.980127929459424, 'recall': 0.9800970873786408, 'f1-score': 0.980092918639714, 'support': 2060}}, {'LAYING': {'precision': 0.9974747474747475, 'recall': 1.0, 'f1-score': 0.9987357774968395, 'support': 395}, 'SITTING': {'precision': 0.9487870619946092, 'recall': 0.9214659685863874, 'f1-score': 0.9349269588313412, 'support': 382}, 'STANDING': {'precision': 0.925531914893617, 'recall': 0.9482288828337875, 'f1-score': 0.936742934051144, 'support': 367}, 'WALKING': {'precision': 0.99375, 'recall': 0.9968652037617555, 'f1-score': 0.9953051643192489, 'support': 319}, 'WALKING_DOWNSTAIRS': {'precision': 0.9825783972125436, 'recall': 0.986013986013986, 'f1-score': 0.9842931937172774, 'support': 286}, 'WALKING_UPSTAIRS': {'precision': 0.9838709677419355, 'recall': 0.9807073954983923, 'f1-score': 0.9822866344605475, 'support': 311}, 'accuracy': 0.970873786407767, 'macro avg': {'precision': 0.9719988482195753, 'recall': 0.9722135727823847, 'f1-score': 0.9720484438127331, 'support': 2060}, 'weighted avg': {'precision': 0.970930552558715, 'recall': 0.970873786407767, 'f1-score': 0.9708391899610708, 'support': 2060}}]\n"
     ]
    }
   ],
   "source": [
    "reports = []\n",
    "\n",
    "for model_name, model, train_set, test_set in models:\n",
    "    X_train = train_set[0]\n",
    "    Y_train = train_set[1]\n",
    "    X_test = test_set[0]\n",
    "    Y_test = test_set[1]\n",
    "\n",
    "    model.fit(X_train, Y_train)\n",
    "    y_pred = model.predict(X_test)\n",
    "    report = classification_report(Y_test, y_pred, output_dict=True)\n",
    "    reports.append(report)\n",
    "    print(reports)"
   ]
  }
 ],
 "metadata": {
  "kernelspec": {
   "display_name": "Python 3",
   "language": "python",
   "name": "python3"
  },
  "language_info": {
   "codemirror_mode": {
    "name": "ipython",
    "version": 3
   },
   "file_extension": ".py",
   "mimetype": "text/x-python",
   "name": "python",
   "nbconvert_exporter": "python",
   "pygments_lexer": "ipython3",
   "version": "3.11.0"
  }
 },
 "nbformat": 4,
 "nbformat_minor": 2
}
